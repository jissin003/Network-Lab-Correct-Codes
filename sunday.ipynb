{
 "cells": [
  {
   "cell_type": "markdown",
   "metadata": {},
   "source": [
    "### Check palindrome a string"
   ]
  },
  {
   "cell_type": "code",
   "execution_count": 2,
   "metadata": {},
   "outputs": [
    {
     "data": {
      "text/plain": [
       "True"
      ]
     },
     "execution_count": 2,
     "metadata": {},
     "output_type": "execute_result"
    }
   ],
   "source": [
    "def pallindrome(string):\n",
    "    if string==string[::-1]:\n",
    "        return True\n",
    "    else:\n",
    "        return False\n",
    "    \n",
    "pallindrome(\"jissin\")\n",
    "pallindrome(\"malayalam\")"
   ]
  },
  {
   "cell_type": "markdown",
   "metadata": {},
   "source": [
    "### Printing Substring of a string"
   ]
  },
  {
   "cell_type": "code",
   "execution_count": 6,
   "metadata": {},
   "outputs": [
    {
     "name": "stdout",
     "output_type": "stream",
     "text": [
      "['j', 'ji', 'jis', 'jiss', 'jissi', 'jissin', 'i', 'is', 'iss', 'issi', 'issin', 's', 'ss', 'ssi', 'ssin', 's', 'si', 'sin', 'i', 'in', 'n']\n"
     ]
    }
   ],
   "source": [
    "#jissin\n",
    "\n",
    "def printsub(element):\n",
    "    subs=[]\n",
    "    for i in range(len(element)): #single loop anel 1 lettere edukan pattu combination venel 2 loop venam\n",
    "        for j in range(i+1,len(element)+1):\n",
    "            subs.append(element[i:j])\n",
    "\n",
    "    print(subs)\n",
    "\n",
    "printsub(\"jissin\")     \n"
   ]
  },
  {
   "cell_type": "markdown",
   "metadata": {},
   "source": [
    "abc\n",
    "\n",
    "When i = 0:\n",
    "\n",
    "j = 1: Substring is s[0:1] → 'a'\n",
    "\n",
    "j = 2: Substring is s[0:2] → 'ab'\n",
    "\n",
    "j = 3: Substring is s[0:3] → 'abc'\n",
    "\n",
    "Substrings so far: ['a', 'ab', 'abc']\n",
    "\n",
    "When i = 1:\n",
    "\n",
    "j = 2: Substring is s[1:2] → 'b'\n",
    "\n",
    "j = 3: Substring is s[1:3] → 'bc'\n",
    "\n",
    "Substrings so far: ['a', 'ab', 'abc', 'b', 'bc']\n",
    "\n",
    "\n",
    "When i = 2:\n",
    "\n",
    "j = 3: Substring is s[2:3] → 'c'\n",
    "\n",
    "Substrings so far: ['a', 'ab', 'abc', 'b', 'bc', 'c']\n",
    "\n"
   ]
  },
  {
   "cell_type": "markdown",
   "metadata": {},
   "source": [
    "#### Count the number of pallindromic substring in a string"
   ]
  },
  {
   "cell_type": "code",
   "execution_count": 11,
   "metadata": {},
   "outputs": [
    {
     "name": "stdout",
     "output_type": "stream",
     "text": [
      "Count of the palindrome substring is 4\n"
     ]
    }
   ],
   "source": [
    "#substring code + pallidrome code\n",
    "\n",
    "def countpal(string):\n",
    "    stringcount=0\n",
    "    for i in range(len(string)):\n",
    "        for j in range(i+1,len(string)+1):\n",
    "            stringrev=string[i:j]\n",
    "            if stringrev==stringrev[::-1]:\n",
    "                stringcount+=1\n",
    "    return stringcount\n",
    "n=countpal('bob')\n",
    "print(f\"Count of the palindrome substring is {n}\")"
   ]
  },
  {
   "cell_type": "markdown",
   "metadata": {},
   "source": [
    " if string[i:j] == string[i:j][::-1]:  \n",
    "\n",
    " inganem patum varibale use akate"
   ]
  },
  {
   "cell_type": "markdown",
   "metadata": {},
   "source": [
    "### UST 1\n",
    "\n",
    "Given a space separated string calculate score of the string .score of the string is determined as follows\n",
    "\n",
    "if the word is pallindrome and the wordlength is 4 then add 5 to the score \n",
    "\n",
    "if the word is pallindrome and the word length is 5 then add 10 to the score \n",
    "\n",
    "if not pallindrome  then add 0 to the score\n",
    "\n",
    "input : \"asdfg htth jklm rrtrr qwerty\"\n",
    "output:15"
   ]
  },
  {
   "cell_type": "code",
   "execution_count": 14,
   "metadata": {},
   "outputs": [
    {
     "name": "stdout",
     "output_type": "stream",
     "text": [
      "The score is 15\n",
      "The score is 10\n"
     ]
    }
   ],
   "source": [
    "def score(string):\n",
    "    score=0\n",
    "    words=string.split()\n",
    "    for word in words:\n",
    "        if word==word[::-1] and len(word)==4:\n",
    "            score+=5\n",
    "        elif word==word[::-1] and len(word)==5:\n",
    "            score+=10\n",
    "        else:\n",
    "            score+=0\n",
    "    print(f\"The score is {score}\")\n",
    "\n",
    "score(\"asdfg htth jklm rrtrr qwerty\")\n",
    "score(\"hello iihii malayalam\")"
   ]
  },
  {
   "cell_type": "markdown",
   "metadata": {},
   "source": [
    "string.split() is same as string.split(\" \")\n",
    "\n",
    "comma separated anel string.split(\",\")"
   ]
  },
  {
   "cell_type": "markdown",
   "metadata": {},
   "source": [
    "#### a=\"aaaabbbbcccdddd\"\n",
    "a4b4c3d4 \n",
    "\n",
    "ingane kittanam"
   ]
  },
  {
   "cell_type": "code",
   "execution_count": 24,
   "metadata": {},
   "outputs": [
    {
     "name": "stdout",
     "output_type": "stream",
     "text": [
      "The Output is a2i4t2m2\n"
     ]
    }
   ],
   "source": [
    "def converter(string):\n",
    "    string1=\"\"\n",
    "    usedlist=[]\n",
    "    for i in range(len(string)):\n",
    "        if string[i] in usedlist:\n",
    "            pass\n",
    "        else:\n",
    "            count1=0\n",
    "            string1=string1+string[i]\n",
    "            count1+=1\n",
    "            for j in range(i+1,len(string)):\n",
    "                if string[i]==string[j]:\n",
    "                    count1+=1\n",
    "            string1=string1+str(count1)\n",
    "            usedlist.append(string[i])\n",
    "    return string1\n",
    "\n",
    "op=converter(\"aaabbcc\")\n",
    "op=converter(\"aaabbacda\")\n",
    "op=converter(\"aaiiiittmm\")\n",
    "print(f\"The Output is {op}\")\n",
    "             \n",
    "        \n"
   ]
  },
  {
   "cell_type": "code",
   "execution_count": 26,
   "metadata": {},
   "outputs": [
    {
     "name": "stdout",
     "output_type": "stream",
     "text": [
      "a4b2c1d1\n"
     ]
    }
   ],
   "source": [
    "a=\"aaabbacd\"\n",
    "used=[]\n",
    "result=\"\"\n",
    "for letter in a:\n",
    "    if letter not in used:\n",
    "        result=result+letter+str(a.count(letter))\n",
    "        used.append(letter)\n",
    "print(result)"
   ]
  },
  {
   "cell_type": "markdown",
   "metadata": {},
   "source": [
    "#### Pyramid Sum"
   ]
  },
  {
   "cell_type": "code",
   "execution_count": 6,
   "metadata": {},
   "outputs": [
    {
     "name": "stdout",
     "output_type": "stream",
     "text": [
      "Result is 8\n",
      "Result is 44\n"
     ]
    }
   ],
   "source": [
    "def pyramind(list1):\n",
    "    result1=[]\n",
    "    for i in range(len(list1)-1):\n",
    "        sum=list1[i]+list1[i+1]\n",
    "        result1.append(sum)\n",
    "    if len(result1)>1:\n",
    "        return pyramind(result1)\n",
    "    else:\n",
    "        return result1[0]\n",
    "        \n",
    "n=pyramind([1,2,3])\n",
    "print(f\"Result is {n}\")\n",
    "n=pyramind([4,5,6,7])\n",
    "print(f\"Result is {n}\")\n"
   ]
  },
  {
   "cell_type": "markdown",
   "metadata": {},
   "source": [
    "### socks question find the number of pairs"
   ]
  },
  {
   "cell_type": "code",
   "execution_count": 8,
   "metadata": {},
   "outputs": [
    {
     "name": "stdout",
     "output_type": "stream",
     "text": [
      "The no of pairs is 3\n",
      "The no of pairs is 2\n"
     ]
    }
   ],
   "source": [
    "def findpairs(list1):\n",
    "    result=0\n",
    "    usedlist=[]\n",
    "    for element in list1:\n",
    "        if element not in usedlist:\n",
    "            n1=list1.count(element)\n",
    "            countofpair=n1//2\n",
    "            result+=countofpair\n",
    "            usedlist.append(element)\n",
    "    print(f\"The no of pairs is {result}\")\n",
    "\n",
    "findpairs([10,20,20,10,10,30,50,10,20])\n",
    "findpairs([1,2,1,2,1,3,2])\n",
    "        "
   ]
  },
  {
   "cell_type": "code",
   "execution_count": 9,
   "metadata": {},
   "outputs": [
    {
     "name": "stdout",
     "output_type": "stream",
     "text": [
      "The no of pairs is 3\n",
      "The no of pairs is 2\n"
     ]
    }
   ],
   "source": [
    "from collections import Counter\n",
    "\n",
    "def findpairs(list1):\n",
    "    result = 0\n",
    "    count_dict = Counter(list1)  # Use Counter to count occurrences of each element\n",
    "    for element, count in count_dict.items():\n",
    "        result += count // 2  # Add the number of pairs (integer division by 2)\n",
    "    print(f\"The no of pairs is {result}\")\n",
    "\n",
    "# Test cases\n",
    "findpairs([10, 20, 20, 10, 10, 30, 50, 10, 20])\n",
    "findpairs([1, 2, 1, 2, 1, 3, 2])\n"
   ]
  },
  {
   "cell_type": "markdown",
   "metadata": {},
   "source": [
    "using set"
   ]
  },
  {
   "cell_type": "code",
   "execution_count": 10,
   "metadata": {},
   "outputs": [
    {
     "name": "stdout",
     "output_type": "stream",
     "text": [
      "The no of pairs is 3\n",
      "The no of pairs is 2\n"
     ]
    }
   ],
   "source": [
    "#usedlist illate chynne set use aaki\n",
    "\n",
    "def findpairs(list1):\n",
    "    result=0\n",
    "    uniquelist=list(set(list1)) #iterationuu vendii unique edukunn\n",
    "    for element in uniquelist:\n",
    "            n1=list1.count(element)\n",
    "            countofpair=n1//2\n",
    "            result+=countofpair\n",
    "    print(f\"The no of pairs is {result}\")\n",
    "\n",
    "findpairs([10,20,20,10,10,30,50,10,20])\n",
    "findpairs([1,2,1,2,1,3,2])"
   ]
  },
  {
   "cell_type": "markdown",
   "metadata": {},
   "source": [
    "Given two binary numbers in the form of a string .findout whether there is a possibility whether these numbers can become equal by rearranging their respective 0s and 1s\n",
    "\n",
    "input string 1=101\n",
    "input string 2=001\n",
    "output=yes\n",
    "\n",
    "10100 ,01111 output no"
   ]
  },
  {
   "cell_type": "code",
   "execution_count": 15,
   "metadata": {},
   "outputs": [
    {
     "name": "stdout",
     "output_type": "stream",
     "text": [
      "yes\n"
     ]
    }
   ],
   "source": [
    "#simple code\n",
    "#length of both and count of any one nokiyal mati\n",
    "\n",
    "a=\"101\"\n",
    "b=\"011\"\n",
    "\n",
    "if len(a)==len(b):\n",
    "    if a.count('0')==b.count('0'):\n",
    "        print(\"yes\")\n",
    "    else:\n",
    "        print('false')"
   ]
  },
  {
   "cell_type": "code",
   "execution_count": 12,
   "metadata": {},
   "outputs": [
    {
     "name": "stdout",
     "output_type": "stream",
     "text": [
      "True\n",
      "False\n"
     ]
    }
   ],
   "source": [
    "#using count function\n",
    "\n",
    "def checker(string1,string2):\n",
    "    one1=string1.count('1')\n",
    "    zero1=string1.count('0')\n",
    "    one2=string2.count('1')\n",
    "    zero2=string2.count('0')\n",
    "    if one1==one2 and zero1==zero2:\n",
    "        return True\n",
    "    else:\n",
    "        return False\n",
    "    \n",
    "op=checker(\"101\",\"011\")\n",
    "print(op)\n",
    "op=checker(\"10100\",\"01111\")\n",
    "print(op)\n",
    "\n"
   ]
  },
  {
   "cell_type": "code",
   "execution_count": 14,
   "metadata": {},
   "outputs": [
    {
     "name": "stdout",
     "output_type": "stream",
     "text": [
      "True\n",
      "False\n"
     ]
    }
   ],
   "source": [
    "#With out uisng count fucntion\n",
    "\n",
    "def checker(string1,string2):\n",
    "    one1,one2,zero1,zero2=0,0,0,0\n",
    "    for letter in string1:\n",
    "        if letter==\"1\":\n",
    "            one1+=1\n",
    "        else:\n",
    "            zero1+=1\n",
    "    for letter in string2:\n",
    "        if letter==\"1\":\n",
    "            one2+=1\n",
    "        else:\n",
    "            zero2+=1\n",
    "\n",
    "    if one1==one2 and zero1==zero2:\n",
    "        return True\n",
    "    else:\n",
    "        return False\n",
    "    \n",
    "op=checker(\"101\",\"011\")\n",
    "print(op)\n",
    "op=checker(\"10100\",\"01111\")\n",
    "print(op)\n"
   ]
  },
  {
   "cell_type": "markdown",
   "metadata": {},
   "source": [
    "Alice and friends question"
   ]
  },
  {
   "cell_type": "code",
   "execution_count": 21,
   "metadata": {},
   "outputs": [
    {
     "name": "stdout",
     "output_type": "stream",
     "text": [
      "No of gamers who didnt got the t shirt is 3\n",
      "No of gamers who didnt got the t shirt is 0\n"
     ]
    }
   ],
   "source": [
    "def game1(list1):\n",
    "    if list1[0]==list1[-1]:\n",
    "        return 0\n",
    "    else:\n",
    "        n=list1[0]\n",
    "        got=0\n",
    "        for element in list1:\n",
    "            if element==n:\n",
    "                got+=1\n",
    "        return len(list1)-got\n",
    "    \n",
    "ans=game1([1,3,4,1,2])\n",
    "print(f\"No of gamers who didnt got the t shirt is {ans}\")\n",
    "\n",
    "ans=game1([4,3,4])\n",
    "print(f\"No of gamers who didnt got the t shirt is {ans}\")\n"
   ]
  },
  {
   "cell_type": "code",
   "execution_count": 22,
   "metadata": {},
   "outputs": [
    {
     "name": "stdout",
     "output_type": "stream",
     "text": [
      "No of gamers who didnt got the t shirt is 3\n",
      "No of gamers who didnt got the t shirt is 0\n"
     ]
    }
   ],
   "source": [
    "#using count\n",
    "\n",
    "def game1(list1):\n",
    "    if list1[0]==list1[-1]:\n",
    "        return 0\n",
    "    else:\n",
    "        got=list1.count(list1[0])\n",
    "        return len(list1)-got\n",
    "    \n",
    "ans=game1([1,3,4,1,2])\n",
    "print(f\"No of gamers who didnt got the t shirt is {ans}\")\n",
    "\n",
    "ans=game1([4,3,4])\n",
    "print(f\"No of gamers who didnt got the t shirt is {ans}\")\n",
    "\n",
    "\n"
   ]
  },
  {
   "cell_type": "markdown",
   "metadata": {},
   "source": [
    "## N th prime number"
   ]
  },
  {
   "cell_type": "code",
   "execution_count": 24,
   "metadata": {},
   "outputs": [
    {
     "ename": "KeyboardInterrupt",
     "evalue": "",
     "output_type": "error",
     "traceback": [
      "\u001b[1;31m---------------------------------------------------------------------------\u001b[0m",
      "\u001b[1;31mKeyboardInterrupt\u001b[0m                         Traceback (most recent call last)",
      "Cell \u001b[1;32mIn[24], line 16\u001b[0m\n\u001b[0;32m     12\u001b[0m                 n\u001b[38;5;241m-\u001b[39m\u001b[38;5;241m=\u001b[39m\u001b[38;5;241m1\u001b[39m\n\u001b[0;32m     14\u001b[0m     \u001b[38;5;28mprint\u001b[39m(x) \n\u001b[1;32m---> 16\u001b[0m nthprime(\u001b[38;5;241m3\u001b[39m)\n",
      "Cell \u001b[1;32mIn[24], line 2\u001b[0m, in \u001b[0;36mnthprime\u001b[1;34m(n)\u001b[0m\n\u001b[0;32m      1\u001b[0m \u001b[38;5;28;01mdef\u001b[39;00m \u001b[38;5;21mnthprime\u001b[39m(n):\n\u001b[1;32m----> 2\u001b[0m     \u001b[38;5;28;01mwhile\u001b[39;00m n\u001b[38;5;241m!=\u001b[39m\u001b[38;5;241m0\u001b[39m:\n\u001b[0;32m      3\u001b[0m         x\u001b[38;5;241m=\u001b[39m\u001b[38;5;241m2\u001b[39m\n\u001b[0;32m      4\u001b[0m         \u001b[38;5;28;01mfor\u001b[39;00m i \u001b[38;5;129;01min\u001b[39;00m \u001b[38;5;28mrange\u001b[39m(\u001b[38;5;241m2\u001b[39m):\n",
      "\u001b[1;31mKeyboardInterrupt\u001b[0m: "
     ]
    }
   ],
   "source": [
    "\n"
   ]
  },
  {
   "cell_type": "code",
   "execution_count": null,
   "metadata": {},
   "outputs": [],
   "source": []
  }
 ],
 "metadata": {
  "kernelspec": {
   "display_name": "base",
   "language": "python",
   "name": "python3"
  },
  "language_info": {
   "codemirror_mode": {
    "name": "ipython",
    "version": 3
   },
   "file_extension": ".py",
   "mimetype": "text/x-python",
   "name": "python",
   "nbconvert_exporter": "python",
   "pygments_lexer": "ipython3",
   "version": "3.12.4"
  }
 },
 "nbformat": 4,
 "nbformat_minor": 2
}
